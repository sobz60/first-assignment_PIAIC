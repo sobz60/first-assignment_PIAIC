{
 "cells": [
  {
   "cell_type": "code",
   "execution_count": 3,
   "metadata": {},
   "outputs": [
    {
     "name": "stdout",
     "output_type": "stream",
     "text": [
      "This funcion returns absolute value of any number -5 5\n"
     ]
    }
   ],
   "source": [
    "fun_1 = \"This funcion returns absolute value of any number\"\n",
    "a = -5\n",
    "b = abs(a)\n",
    "print(fun_1, a,b)\n",
    "\n",
    "\n",
    "\n"
   ]
  },
  {
   "cell_type": "code",
   "execution_count": 1,
   "metadata": {},
   "outputs": [
    {
     "name": "stdout",
     "output_type": "stream",
     "text": [
      "Returns the binary version of a number 56 0b111000\n"
     ]
    }
   ],
   "source": [
    "fun_2 = \"Returns the binary version of a number\"\n",
    "a = 56\n",
    "b = bin(a)\n",
    "print(fun_2, a, b)\n"
   ]
  },
  {
   "cell_type": "code",
   "execution_count": 2,
   "metadata": {},
   "outputs": [
    {
     "name": "stdout",
     "output_type": "stream",
     "text": [
      "Returns sorted list from a given iterable [23, 15, -5, 78, 0] [-5, 0, 15, 23, 78]\n"
     ]
    }
   ],
   "source": [
    "fun_3 = \"Returns sorted list from a given iterable\"\n",
    "a = [23,15,-5,78,0]\n",
    "b = sorted(a)\n",
    "print(fun_3, a, b)\n"
   ]
  },
  {
   "cell_type": "code",
   "execution_count": 4,
   "metadata": {},
   "outputs": [
    {
     "name": "stdout",
     "output_type": "stream",
     "text": [
      "Returns True if, even one value in the iterable has a Boolean value of True resuls are True False\n"
     ]
    }
   ],
   "source": [
    "fun_4 = \"Returns True if, even one value in the iterable has a Boolean value of True\"\n",
    "a = [1,0,0]\n",
    "b = [0,0,0]\n",
    "c = any(a)\n",
    "d = any(b)\n",
    "print(fun_4, \"resuls are\" ,c , d)\n"
   ]
  },
  {
   "cell_type": "code",
   "execution_count": 3,
   "metadata": {},
   "outputs": [
    {
     "name": "stdout",
     "output_type": "stream",
     "text": [
      "converts a value to an integer integral value of a is =  5\n"
     ]
    }
   ],
   "source": [
    "fun_5 = \"converts a value to an integer\"\n",
    "a = 5.6\n",
    "b = int(a)\n",
    "print(fun_5, \"integral value of a is = \" , b)\n"
   ]
  },
  {
   "cell_type": "code",
   "execution_count": null,
   "metadata": {},
   "outputs": [],
   "source": []
  }
 ],
 "metadata": {
  "kernelspec": {
   "display_name": "Python 3",
   "language": "python",
   "name": "python3"
  },
  "language_info": {
   "codemirror_mode": {
    "name": "ipython",
    "version": 3
   },
   "file_extension": ".py",
   "mimetype": "text/x-python",
   "name": "python",
   "nbconvert_exporter": "python",
   "pygments_lexer": "ipython3",
   "version": "3.7.4"
  }
 },
 "nbformat": 4,
 "nbformat_minor": 2
}
